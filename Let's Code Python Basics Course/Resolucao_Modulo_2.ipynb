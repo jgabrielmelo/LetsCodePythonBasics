{
 "cells": [
  {
   "cell_type": "markdown",
   "metadata": {},
   "source": [
    "# Exercícios Módulo 2 - Python"
   ]
  },
  {
   "cell_type": "markdown",
   "metadata": {},
   "source": [
    "#### Questão 1\n",
    "Faça um programa que olhe todos os itens de uma lista e diga quantos deles são pares."
   ]
  },
  {
   "cell_type": "code",
   "execution_count": 1,
   "metadata": {},
   "outputs": [
    {
     "name": "stdout",
     "output_type": "stream",
     "text": [
      "A lista contem 5 valores pares.\n"
     ]
    }
   ],
   "source": [
    "lista = [1,2,3,4,5,6,7,8,9,10]\n",
    "contagem = 0\n",
    "\n",
    "for valor in lista:\n",
    "    if valor % 2 == 0:\n",
    "        contagem += 1\n",
    "print(f'A lista contem {contagem} valores pares.')"
   ]
  },
  {
   "cell_type": "code",
   "execution_count": 3,
   "metadata": {},
   "outputs": [
    {
     "name": "stdout",
     "output_type": "stream",
     "text": [
      "Olá, iremos criar uma lista aleatória de números, para isso preciso de algumas informações\n",
      "A lista gerada foi [15, 15, 16, 17, 23, 23, 25, 26, 31, 32, 34, 35, 36, 42, 45, 46, 46, 46, 49, 49]\n",
      "A lista contem 9 valores pares.\n"
     ]
    }
   ],
   "source": [
    "import random\n",
    "\n",
    "contagem = 0\n",
    "print('Olá, iremos criar uma lista aleatória de números, para isso preciso de algumas informações')\n",
    "\n",
    "inicial = int(input('Digite o primeiro número do intervalo: '))\n",
    "final = int(input('Digite o ultimo numero do intervalo: '))\n",
    "quantidade = int(input('Digite a quantidade de números aleatórios que serão gerados: '))\n",
    "\n",
    "lista = [random.randint(inicial, final) for x in range(quantidade)]\n",
    "\n",
    "for valor in lista:\n",
    "    if valor == 0:\n",
    "        pass\n",
    "    else:\n",
    "        if valor % 2 == 0:\n",
    "            contagem += 1\n",
    "\n",
    "print(f'A lista gerada foi {sorted(lista)}')\n",
    "print(f'A lista contem {contagem} valores pares.')"
   ]
  },
  {
   "cell_type": "markdown",
   "metadata": {},
   "source": [
    "#### Questão 2\n",
    "Faça um programa que peça para o usuário digitar uma palavra e imprima cada letra em uma linha."
   ]
  },
  {
   "cell_type": "code",
   "execution_count": 4,
   "metadata": {},
   "outputs": [
    {
     "name": "stdout",
     "output_type": "stream",
     "text": [
      "h\n",
      "e\n",
      "x\n",
      "a\n"
     ]
    }
   ],
   "source": [
    "palavra = input('Digite uma palavra qualquer: ')\n",
    "\n",
    "for letra in palavra:\n",
    "    print(letra)"
   ]
  },
  {
   "cell_type": "markdown",
   "metadata": {},
   "source": [
    "#### Questão 3\n",
    "Faça uma função que recebe duas listas e retorna a soma item a item dessas listas.  \n",
    "    \n",
    "Exemplo:   \n",
    ">Se a função receber as listas `[1,4,3]` e `[3,5,1]`, então a função deve retornar `[1+3, 4+5, 3+1] = [4,9,4]`."
   ]
  },
  {
   "cell_type": "code",
   "execution_count": 5,
   "metadata": {},
   "outputs": [
    {
     "data": {
      "text/plain": [
       "[4, 9, 4]"
      ]
     },
     "execution_count": 5,
     "metadata": {},
     "output_type": "execute_result"
    }
   ],
   "source": [
    "def soma_lista(lista1, lista2):\n",
    "    nova_lista = []\n",
    "    \n",
    "    for i in range(len(lista1)):\n",
    "        nova_lista.append(lista1[i] + lista2[i])\n",
    "    \n",
    "    return nova_lista\n",
    "\n",
    "lista1 = [1,4,3]\n",
    "lista2 = [3,5,1]\n",
    "\n",
    "soma_lista(lista1, lista2)"
   ]
  },
  {
   "cell_type": "markdown",
   "metadata": {},
   "source": [
    "#### Questão 4\n",
    "Crie um dicionário cujas chaves são os meses do ano e os valores são a duração (em dias) de cada mês."
   ]
  },
  {
   "cell_type": "code",
   "execution_count": 6,
   "metadata": {},
   "outputs": [],
   "source": [
    "ano = {\n",
    "    'Janeiro': 31,\n",
    "    'Fevereiro': 28,\n",
    "    'Março': 31,\n",
    "    'Abril': 30,\n",
    "    'Maio': 31,\n",
    "    'Junho': 30,\n",
    "    'Julho': 31,\n",
    "    'Agosto': 31,\n",
    "    'Setembro': 30,\n",
    "    'Outubro': 31,\n",
    "    'Novembro': 30,\n",
    "    'Dezembro': 31,\n",
    "}"
   ]
  },
  {
   "cell_type": "markdown",
   "metadata": {},
   "source": [
    "#### Questão 5\n",
    "Imprima as chaves seguidas dos seus valores para dicionário criado no exercício anterior.    \n",
    "Exemplo:    \n",
    "\n",
    "    Janeiro - 31\n",
    "    Fevereiro - 28\n",
    "    Março - 31\n",
    "    Etc..."
   ]
  },
  {
   "cell_type": "code",
   "execution_count": 7,
   "metadata": {},
   "outputs": [
    {
     "name": "stdout",
     "output_type": "stream",
     "text": [
      "Janeiro - 31\n",
      "Fevereiro - 28\n",
      "Março - 31\n",
      "Abril - 30\n",
      "Maio - 31\n",
      "Junho - 30\n",
      "Julho - 31\n",
      "Agosto - 31\n",
      "Setembro - 30\n",
      "Outubro - 31\n",
      "Novembro - 30\n",
      "Dezembro - 31\n"
     ]
    }
   ],
   "source": [
    "for chave in ano.keys():\n",
    "    print(f'{chave} - {ano[chave]}')"
   ]
  }
 ],
 "metadata": {
  "kernelspec": {
   "display_name": "Python 3.10.5 64-bit",
   "language": "python",
   "name": "python3"
  },
  "language_info": {
   "codemirror_mode": {
    "name": "ipython",
    "version": 3
   },
   "file_extension": ".py",
   "mimetype": "text/x-python",
   "name": "python",
   "nbconvert_exporter": "python",
   "pygments_lexer": "ipython3",
   "version": "3.10.5"
  },
  "orig_nbformat": 4,
  "vscode": {
   "interpreter": {
    "hash": "80da3e13c7adfd4ab3cb23b52123154a6113a8173e391d511351978ebe83fd6c"
   }
  }
 },
 "nbformat": 4,
 "nbformat_minor": 2
}
