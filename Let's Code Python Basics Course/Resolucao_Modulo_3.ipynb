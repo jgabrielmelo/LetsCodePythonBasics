{
 "cells": [
  {
   "cell_type": "markdown",
   "metadata": {},
   "source": [
    "# Exercícios Módulo 3 - Python"
   ]
  },
  {
   "cell_type": "markdown",
   "metadata": {},
   "source": [
    "Para os exercícios 1 ao 3, você precisará do arquivo: _alunos.csv_. [Clique aqui](https://s3-sa-east-1.amazonaws.com/lcpi/0f8eacaa-25d5-462e-84f4-4937489552d4.csv) para baixá-lo (ao salvar, renomeie o arquivo)."
   ]
  },
  {
   "cell_type": "markdown",
   "metadata": {},
   "source": [
    "#### Questão 1\n",
    "Neste exercício você deve criar um programa que abra o arquivo `\"alunos.csv\"` e imprima o conteúdo do arquivo linha a linha.\n",
    "   \n",
    "Note que esse é o primeiro exercício de uma sequência, então o seu código\n",
    "pode ser reaproveitado nos exercícios seguintes. Dito isso, a recomendação é usar a biblioteca CSV para ler o arquivo mesmo que não seja realmente necessário para esse primeiro item.\n"
   ]
  },
  {
   "cell_type": "code",
   "execution_count": null,
   "metadata": {},
   "outputs": [],
   "source": []
  },
  {
   "cell_type": "markdown",
   "metadata": {},
   "source": [
    "#### Questão 2\n",
    "Para o segundo exercício, você deve criar um programa que realize uma cópia do arquivo `\"alunos.csv\"`. Essa cópia deve ser um arquivo chamado `\"alunos_copia.csv\"`.\n",
    "\n",
    "Novamente, aqui você também não precisa utilizar a biblioteca CSV mas se\n",
    "usar, seu código pode ser reutilizado na próxima questão sem muitas\n",
    "modiﬁcações."
   ]
  },
  {
   "cell_type": "code",
   "execution_count": null,
   "metadata": {},
   "outputs": [],
   "source": []
  },
  {
   "cell_type": "markdown",
   "metadata": {},
   "source": [
    "#### Questão 3\n",
    "Finalmente chegamos ao último exercício dessa sequência relacionada à\n",
    "manipulação de arquivos.\n",
    "\n",
    "Neste exercício você deve criar um novo arquivo chamado `\"alunos_media.csv\"`. Esse novo arquivo é uma cópia de `\"alunos.csv\"` porém com uma coluna a mais chamada **\"Média\"** que vai abrigar os valores das médias das provas de cada aluno da lista.\n",
    "\n",
    "Se você utilizou a biblioteca CSV para realizar os dois primeiros exercícios, muito será reaproveitado aqui. A biblioteca CSV permite a interpretação de cada linha como listas, que são fáceis de manipular."
   ]
  },
  {
   "cell_type": "code",
   "execution_count": null,
   "metadata": {},
   "outputs": [],
   "source": []
  },
  {
   "cell_type": "markdown",
   "metadata": {},
   "source": [
    "#### Questão 4\n",
    "Você conhece Star Wars? Se trata, obviamente, da famosa saga espacial\n",
    "criada por George Lucas em 1977 e que deu origem a símbolos do cinema e\n",
    "da cultura pop com o imponente vilão Darth Vader ou o simpático robô\n",
    "R2-D2. A ideia desse exercício é justamente extrair informações do\n",
    "personagem Darth Vader através de uma API de Star Wars chamada SWAPI.\n",
    "\n",
    "Utilize a [URL](https://swapi.dev/api/people/4/) para fazer a requisição dos dados de Darth Vader e extraia as informações **\"name\" (nome), \"height\"\n",
    "(altura), \"mass\" (massa) e \"birth_year\" (ano de nascimento)** e imprima cada dado em uma linha.\n",
    "\n",
    "Dica: caso não se lembre de como fazer isso, assista novamente a aula sobre API porque o exemplo da aula pode te ajudar."
   ]
  },
  {
   "cell_type": "code",
   "execution_count": null,
   "metadata": {},
   "outputs": [],
   "source": []
  },
  {
   "cell_type": "markdown",
   "metadata": {},
   "source": [
    "#### Questão 5\n",
    "Em 2019 surgiram os primeiros casos de COVID-19 que se alastrou pelo mundo resultando numa pandemia. A proposta deste exercício é utilizar uma API com informações de COVID-19 do mundo todo desde o início da proliferação e descobrir que dia o Brasil conﬁrmou o primeiro caso de Coronavírus.\n",
    "\n",
    "Para fazer isso, utilize a [URL](https://api.covid19api.com/country/brazil) em seu código. Ela retorna uma lista de dicionários, onde cada dicionário traz informações através das chaves:\n",
    "\n",
    "**\"ID\", \"Country\", \"CountryCode\", \"Province\", \"City\", \"CityCode\",\"Lat\",\"Lon\",\"Conﬁrmed\",\"Deaths\", \"Recovered\", \"Active\" e \"Date\".**\n",
    "\n",
    "Utilize essas informações e retorne a data em que o Brasil conﬁrmou o primeiro caso de COVID."
   ]
  },
  {
   "cell_type": "code",
   "execution_count": null,
   "metadata": {},
   "outputs": [],
   "source": []
  }
 ],
 "metadata": {
  "kernelspec": {
   "display_name": "Python 3.10.5 64-bit",
   "language": "python",
   "name": "python3"
  },
  "language_info": {
   "name": "python",
   "version": "3.10.5"
  },
  "orig_nbformat": 4,
  "vscode": {
   "interpreter": {
    "hash": "80da3e13c7adfd4ab3cb23b52123154a6113a8173e391d511351978ebe83fd6c"
   }
  }
 },
 "nbformat": 4,
 "nbformat_minor": 2
}
