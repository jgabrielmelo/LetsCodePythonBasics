{
 "cells": [
  {
   "cell_type": "markdown",
   "metadata": {},
   "source": [
    "# Exercícios Módulo 1 - Python"
   ]
  },
  {
   "cell_type": "markdown",
   "metadata": {},
   "source": [
    "#### Questão 1\n",
    "Faça um programa que peça um valor monetário e diminua-o em 15%. Seu programa deve imprimir a mensagem “O novo valor é [valor]”."
   ]
  },
  {
   "cell_type": "code",
   "execution_count": 18,
   "metadata": {},
   "outputs": [
    {
     "name": "stdout",
     "output_type": "stream",
     "text": [
      "O novo valor é: R$3400.00\n"
     ]
    }
   ],
   "source": [
    "'''Definindo função para inserir um valor inicial e retornará um valor com desconto de 15%'''\n",
    "def cut15pct(value):\n",
    "    new_value = value*0.85\n",
    "    print(\"O novo valor é: R${:.2f}\".format(new_value))\n",
    "'''Aplicando a função e imprimindo junto com o input'''\n",
    "cut15pct(float(input(\"Insira um valor monetário: \")))"
   ]
  },
  {
   "cell_type": "markdown",
   "metadata": {},
   "source": [
    "#### Questão 2\n",
    "Faça um programa que leia a validade das informações:\n",
    "\n",
    "    a. Idade: entre 0 e 150;\n",
    "    b. Salário: maior que 0;\n",
    "    c. Sexo: M, F ou Outro;\n",
    "\n",
    "O programa deve imprimir uma mensagem de erro para cada informação inválida."
   ]
  },
  {
   "cell_type": "code",
   "execution_count": 10,
   "metadata": {},
   "outputs": [
    {
     "name": "stdout",
     "output_type": "stream",
     "text": [
      "Erro! Digite uma idade entre 0 e 150 anos: \n",
      "Sua idade é: 27\n",
      "Erro! Digite um valor de salário maior que 0: \n",
      "Seu salario é de: 10500\n",
      "Erro! Digite um sexo com um dos valores a seguir: M, F ou Outro: \n",
      "Seu sexo escolhido foi: M\n"
     ]
    }
   ],
   "source": [
    "idade = input('Digite uma idade entre 0 e 150 anos: ')\n",
    "while int(idade) <= 0 or int(idade) >= 150:\n",
    "    print(\"Erro! Digite uma idade entre 0 e 150 anos: \")\n",
    "    idade = input('Valor inválido. Digite uma idade entre 0 e 150 anos: ')\n",
    "else:\n",
    "    print(\"Sua idade é: {}\".format(idade))\n",
    "    \n",
    "salario = input('Digite um valor de salário maior que 0: ')\n",
    "while float(salario) <=0:\n",
    "    print(\"Erro! Digite um valor de salário maior que 0: \")\n",
    "    salario = input('Valor inválido. Digite um salário maior que 0: ')\n",
    "else:\n",
    "    print(\"Seu salario é de: {}\".format(salario))\n",
    "\n",
    "sexos = ['M', 'F', 'OUTRO']\n",
    "sexo = input('Digite um sexo com um dos valores a seguir: M, F ou Outro: ')\n",
    "while sexo.upper() not in sexos:\n",
    "    print(\"Erro! Digite um sexo com um dos valores a seguir: M, F ou Outro: \")\n",
    "    sexo = input('Valor inválido. Digite um sexo válido: M, F ou Outro: ')\n",
    "else:\n",
    "    print(\"Seu sexo escolhido foi: {}\".format(sexo.upper()))"
   ]
  },
  {
   "cell_type": "markdown",
   "metadata": {},
   "source": [
    "#### Questão 3\n",
    "Vamos fazer um programa para verificar quem é o assassino de um crime.\n",
    "Para descobrir o assassino, a polícia faz um pequeno questionário com 5 perguntas onde a resposta só pode ser sim ou não:\n",
    "\n",
    "    a. Mora perto da vítima?\n",
    "    b. Já trabalhou com a vítima?\n",
    "    c. Telefonou para a vítima?\n",
    "    d. Esteve no local do crime?\n",
    "    e. Devia para a vítima?\n",
    "\n",
    "Cada resposta sim dá um ponto para o suspeito. A polícia considera que os suspeitos com 5 pontos são os assassinos, com 4 a 3 pontos são cúmplices e 2 pontos são apenas suspeitos, necessitando outras investigações. Valores iguais ou abaixo de 1 são liberados."
   ]
  },
  {
   "cell_type": "code",
   "execution_count": 1,
   "metadata": {},
   "outputs": [
    {
     "name": "stdout",
     "output_type": "stream",
     "text": [
      "Responda todas as perguntas apenas com sim ou não.\n",
      "Cumplice\n"
     ]
    }
   ],
   "source": [
    "from unidecode import unidecode\n",
    "\n",
    "'''Criando uma lista de perguntas'''\n",
    "perguntas = ['Mora perto da vítima? ','Já trabalhou com a vítima? ',\n",
    "            'Telefonou para a vítima? ','Esteve no local do crime? ',\n",
    "            'Devia para a vítima? ']\n",
    "'''Criando um dicionário contendo os pontos e suas referências de acordo com a polícia.'''\n",
    "opcoes = {\n",
    "    1: 'Liberado',\n",
    "    2: 'Suspeito',\n",
    "    3: 'Cumplice',\n",
    "    4: 'Cumplice',\n",
    "    5: 'Assassino'\n",
    "}\n",
    "'''Padronizando as respotas apenas para sim ou não e criando a \n",
    "variável contagem para receber os valores do dicionario opcoes'''\n",
    "contagem = 0\n",
    "possiveis = ['SIM', 'NAO']\n",
    "print('Responda todas as perguntas apenas com sim ou não.')\n",
    "\n",
    "for pergunta in perguntas:\n",
    "    resposta = unidecode(input(pergunta))\n",
    "    while resposta.upper() not in possiveis:\n",
    "        resposta = input(f'Resposta inválida. {pergunta}')\n",
    "    if resposta.upper() == 'SIM':\n",
    "        contagem +=1\n",
    "    else:\n",
    "        pass\n",
    "\n",
    "print(opcoes[contagem])"
   ]
  },
  {
   "cell_type": "markdown",
   "metadata": {},
   "source": [
    "#### Questão 4\n",
    "Faça um programa que imprima a tabuada do 9 (de 9 * 1 a 9 * 10) usando loops."
   ]
  },
  {
   "cell_type": "code",
   "execution_count": 5,
   "metadata": {},
   "outputs": [
    {
     "name": "stdout",
     "output_type": "stream",
     "text": [
      "9 * 1 = 9\n",
      "9 * 2 = 18\n",
      "9 * 3 = 27\n",
      "9 * 4 = 36\n",
      "9 * 5 = 45\n",
      "9 * 6 = 54\n",
      "9 * 7 = 63\n",
      "9 * 8 = 72\n",
      "9 * 9 = 81\n",
      "9 * 10 = 90\n"
     ]
    }
   ],
   "source": [
    "'''Criando um programa que nos retorna a tabuada de um número escolhido.'''\n",
    "tabuada = int(input('Digite o número que deseja fazer a tabuada: '))\n",
    "\n",
    "for i in range(1,11):\n",
    "    print(f'{tabuada} * {i} = {tabuada*i}')"
   ]
  }
 ],
 "metadata": {
  "kernelspec": {
   "display_name": "Python 3.10.5 64-bit",
   "language": "python",
   "name": "python3"
  },
  "language_info": {
   "codemirror_mode": {
    "name": "ipython",
    "version": 3
   },
   "file_extension": ".py",
   "mimetype": "text/x-python",
   "name": "python",
   "nbconvert_exporter": "python",
   "pygments_lexer": "ipython3",
   "version": "3.10.5"
  },
  "orig_nbformat": 4,
  "vscode": {
   "interpreter": {
    "hash": "80da3e13c7adfd4ab3cb23b52123154a6113a8173e391d511351978ebe83fd6c"
   }
  }
 },
 "nbformat": 4,
 "nbformat_minor": 2
}
